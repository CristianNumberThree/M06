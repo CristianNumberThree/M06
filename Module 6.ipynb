{
 "cells": [
  {
   "cell_type": "markdown",
   "id": "f5a884a3",
   "metadata": {},
   "source": [
    "13.1"
   ]
  },
  {
   "cell_type": "code",
   "execution_count": null,
   "id": "ed8a0902",
   "metadata": {},
   "outputs": [],
   "source": [
    "from datetime import date\n",
    "\n",
    "def current_date(filename):\n",
    "\n",
    "    today = date.today()\n",
    "    with open(filename, 'w') as file:\n",
    "            \n",
    "        file.write(str(today))\n",
    "\n",
    "filename = \"today.txt\"\n",
    "\n",
    "current_date(filename)"
   ]
  },
  {
   "cell_type": "markdown",
   "id": "77d32447",
   "metadata": {},
   "source": [
    "13.2"
   ]
  },
  {
   "cell_type": "code",
   "execution_count": null,
   "id": "41f0d0d4",
   "metadata": {},
   "outputs": [],
   "source": [
    "read = open(\"today.txt\",\"r\")\n",
    "print (read.read())"
   ]
  },
  {
   "cell_type": "markdown",
   "id": "349a0896",
   "metadata": {},
   "source": [
    "13.3"
   ]
  },
  {
   "cell_type": "code",
   "execution_count": null,
   "id": "a06c6a40",
   "metadata": {},
   "outputs": [],
   "source": [
    "def parse_date_file():\n",
    "\n",
    "    with open(\"today.txt\", \"r\") as file:\n",
    "        read = file.read()\n",
    "        parse = read.split(\"-\")\n",
    "        print (parse)\n",
    "\n",
    "parse_date_file()"
   ]
  },
  {
   "cell_type": "markdown",
   "id": "4910d67d",
   "metadata": {},
   "source": [
    "15.1"
   ]
  },
  {
   "cell_type": "code",
   "execution_count": null,
   "id": "365f8f30",
   "metadata": {},
   "outputs": [],
   "source": [
    "import multiprocessing\n",
    "import time\n",
    "import random\n",
    "from datetime import datetime\n",
    "\n",
    "def time_stop():\n",
    "    wait = random.random()\n",
    "    time.sleep(wait)\n",
    "    print(f\"{datetime.now().time()}\")\n",
    "\n",
    "if __name__ == '__main__':\n",
    "    processes = [multiprocessing.Process(target=time_stop) for _ in range(3)]\n",
    "    for timer in processes:\n",
    "        timer.start()\n",
    "\n",
    "    for timer in processes:\n",
    "        timer.join()"
   ]
  }
 ],
 "metadata": {
  "kernelspec": {
   "display_name": "Python 3 (ipykernel)",
   "language": "python",
   "name": "python3"
  },
  "language_info": {
   "codemirror_mode": {
    "name": "ipython",
    "version": 3
   },
   "file_extension": ".py",
   "mimetype": "text/x-python",
   "name": "python",
   "nbconvert_exporter": "python",
   "pygments_lexer": "ipython3",
   "version": "3.11.5"
  }
 },
 "nbformat": 4,
 "nbformat_minor": 5
}
